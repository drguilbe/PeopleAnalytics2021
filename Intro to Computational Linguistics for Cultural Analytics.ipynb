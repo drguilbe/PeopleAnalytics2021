{
 "cells": [
  {
   "cell_type": "markdown",
   "metadata": {},
   "source": [
    "## Class 5: Intro to Computational Linguistics for Cultural Analytics\n",
    "\n",
    "This is a custom made tutorial, written by Professor Douglas Guilbeault for his class on People Analytics\n",
    "at the Haas School of Business. February 2021. \n",
    "\n",
    "### Emphasis: Word Embedding Models for Cultural Analytics\n",
    "\n",
    "This notebook will measure cultural associations in language using Kozlowski et al's Geometries of Culture Method.\n",
    "This method uses word2vec, a word embedding model, to identify implicit cultural dimensions (e.g. gender) that allow us to see how words (e.g. occupations, brands) are associated with cultural features (e.g. gender or morality. \n",
    "\n",
    "References:\n",
    "Kozlowski, Austin C., Matt Taddy, and James A. Evans. “The Geometry of Culture: Analyzing the Meanings of Class through Word Embeddings.” American Sociological Review 84, no. 5 (October 1, 2019): 905–49. https://doi.org/10.1177/0003122419877135.\n",
    "\n",
    "NOTE: for this notebook to work, you will need to download this file \"GoogleNews-vectors-negative300.bin\" (e.g. from here, https://github.com/mmihaltz/word2vec-GoogleNews-vectors) and you will need to place this file in the same folder as you place this notebook. This file contains a word embedding model pre-trained on the corpus of Google books. "
   ]
  },
  {
   "cell_type": "code",
   "execution_count": 84,
   "metadata": {},
   "outputs": [],
   "source": [
    "import scipy\n",
    "import gensim\n",
    "import scipy\n",
    "import numpy as np #For arrays\n",
    "import pandas #Gives us DataFrames\n",
    "import matplotlib.pyplot as plt #For graphics\n",
    "import seaborn #Makes the graphics look nicer\n",
    "import sklearn.metrics.pairwise #For cosine similarity\n",
    "import sklearn.manifold #For T-SNE\n",
    "import sklearn.decomposition #For PCA\n",
    "\n",
    "#This 'magic' command makes the plots work better\n",
    "#in the notebook, don't use it outside of a notebook.\n",
    "#Also you can ignore the warning\n",
    "%matplotlib inline\n",
    "\n",
    "import os #For looking through files\n",
    "import os.path #For managing file paths"
   ]
  },
  {
   "cell_type": "markdown",
   "metadata": {},
   "source": [
    "### Define our functions\n",
    "\n",
    "As a beginning to Python, you won't need to know how these work. "
   ]
  },
  {
   "cell_type": "code",
   "execution_count": 85,
   "metadata": {},
   "outputs": [],
   "source": [
    "def normalize(vector):\n",
    "    normalized_vector = vector / np.linalg.norm(vector)\n",
    "    return normalized_vector\n",
    "\n",
    "def dimension(model, positives, negatives):\n",
    "    diff = sum([normalize(model[x]) for x in positives]) - sum([normalize(model[y]) for y in negatives])\n",
    "    return diff"
   ]
  },
  {
   "cell_type": "code",
   "execution_count": 86,
   "metadata": {},
   "outputs": [],
   "source": [
    "def process_inputs(model, dimension, dimension_name, word_list):\n",
    "    g = []\n",
    "    for word in word_list:\n",
    "        g.append(sklearn.metrics.pairwise.cosine_similarity(model[word].reshape(1,-1), dimension.reshape(1,-1))[0][0])\n",
    "    df = pandas.DataFrame({dimension_name: g}, index = word_list)\n",
    "    return df"
   ]
  },
  {
   "cell_type": "code",
   "execution_count": 87,
   "metadata": {},
   "outputs": [],
   "source": [
    "def Coloring(Series):\n",
    "    x = Series.values\n",
    "    y = x-x.min()\n",
    "    z = y/y.max()\n",
    "    c = list(plt.cm.rainbow(z))\n",
    "    return c\n",
    "\n",
    "def PlotDimension(ax,df, dim):\n",
    "    ax.set_frame_on(False)\n",
    "    ax.set_title(dim, fontsize = 20)\n",
    "    colors = Coloring(df[dim])\n",
    "    for i, word in enumerate(df.index):\n",
    "        ax.annotate(word, (0, df[dim][i]), color = colors[i], alpha = 0.6, fontsize = 12)\n",
    "    MaxY = df[dim].max()\n",
    "    MinY = df[dim].min()\n",
    "    plt.ylim(MinY,MaxY)\n",
    "    plt.yticks(())\n",
    "    plt.xticks(())"
   ]
  },
  {
   "cell_type": "markdown",
   "metadata": {},
   "source": [
    "### Now let's run the model"
   ]
  },
  {
   "cell_type": "markdown",
   "metadata": {},
   "source": [
    "#### First, we will load the pre-trained word2vec embedding space based on Google News"
   ]
  },
  {
   "cell_type": "code",
   "execution_count": 88,
   "metadata": {},
   "outputs": [],
   "source": [
    "model = gensim.models.KeyedVectors.load_word2vec_format('GoogleNews-vectors-negative300.bin', binary=True)"
   ]
  },
  {
   "cell_type": "markdown",
   "metadata": {},
   "source": [
    "##### Next, we will build the cultural dimensions we're interested. For example, let's create a 'gender' dimensions"
   ]
  },
  {
   "cell_type": "code",
   "execution_count": 4,
   "metadata": {},
   "outputs": [],
   "source": [
    "Gender = dimension(model, ['man','him','he', 'male', 'boy'], ['woman', 'her', 'she', 'female', 'girl'])"
   ]
  },
  {
   "cell_type": "markdown",
   "metadata": {},
   "source": [
    "##### Now, let's look at the different concepts we want to examine along the gender dimension"
   ]
  },
  {
   "cell_type": "code",
   "execution_count": 25,
   "metadata": {},
   "outputs": [],
   "source": [
    "Occupations = [\"doctor\",\"lawyer\",\"plumber\",\"scientist\",\"hairdresser\", \"nanny\",\"carpenter\",\"entrepreneur\",\"musician\",\"writer\", \"banker\",\"poet\",\"nurse\"]\n",
    "Foods = [\"steak\", \"bacon\", \"croissant\", \"cheesecake\", \"salad\", \"cheeseburger\", \"vegetables\", \"beer\", \"wine\", \"pastry\"]\n",
    "Sports  = [\"basketball\", \"baseball\", \"boxing\", \"softball\", \"volleyball\", \"tennis\", \"golf\", \"hockey\", \"soccer\"]"
   ]
  },
  {
   "cell_type": "code",
   "execution_count": 33,
   "metadata": {},
   "outputs": [],
   "source": [
    "Occupations_output = process_inputs(model=model, dimension=Gender, dimension_name='gender', word_list=Occupations) \n",
    "Food_output = process_inputs(model=model, dimension=Gender, dimension_name='gender', word_list=Foods)\n",
    "Sports_output = process_inputs(model=model, dimension=Gender, dimension_name='gender', word_list=Sports)"
   ]
  },
  {
   "cell_type": "markdown",
   "metadata": {},
   "source": [
    "#### Let's look at how 'occupations' fall along this gender dimension"
   ]
  },
  {
   "cell_type": "code",
   "execution_count": 34,
   "metadata": {},
   "outputs": [
    {
     "data": {
      "text/html": [
       "<div>\n",
       "<style scoped>\n",
       "    .dataframe tbody tr th:only-of-type {\n",
       "        vertical-align: middle;\n",
       "    }\n",
       "\n",
       "    .dataframe tbody tr th {\n",
       "        vertical-align: top;\n",
       "    }\n",
       "\n",
       "    .dataframe thead th {\n",
       "        text-align: right;\n",
       "    }\n",
       "</style>\n",
       "<table border=\"1\" class=\"dataframe\">\n",
       "  <thead>\n",
       "    <tr style=\"text-align: right;\">\n",
       "      <th></th>\n",
       "      <th>gender</th>\n",
       "    </tr>\n",
       "  </thead>\n",
       "  <tbody>\n",
       "    <tr>\n",
       "      <th>doctor</th>\n",
       "      <td>0.007563</td>\n",
       "    </tr>\n",
       "    <tr>\n",
       "      <th>lawyer</th>\n",
       "      <td>-0.001915</td>\n",
       "    </tr>\n",
       "    <tr>\n",
       "      <th>plumber</th>\n",
       "      <td>0.103097</td>\n",
       "    </tr>\n",
       "    <tr>\n",
       "      <th>scientist</th>\n",
       "      <td>-0.014868</td>\n",
       "    </tr>\n",
       "    <tr>\n",
       "      <th>hairdresser</th>\n",
       "      <td>-0.229392</td>\n",
       "    </tr>\n",
       "    <tr>\n",
       "      <th>nanny</th>\n",
       "      <td>-0.176223</td>\n",
       "    </tr>\n",
       "    <tr>\n",
       "      <th>carpenter</th>\n",
       "      <td>0.126375</td>\n",
       "    </tr>\n",
       "    <tr>\n",
       "      <th>entrepreneur</th>\n",
       "      <td>0.037492</td>\n",
       "    </tr>\n",
       "    <tr>\n",
       "      <th>musician</th>\n",
       "      <td>0.034811</td>\n",
       "    </tr>\n",
       "    <tr>\n",
       "      <th>writer</th>\n",
       "      <td>0.000454</td>\n",
       "    </tr>\n",
       "    <tr>\n",
       "      <th>banker</th>\n",
       "      <td>0.046643</td>\n",
       "    </tr>\n",
       "    <tr>\n",
       "      <th>poet</th>\n",
       "      <td>-0.021631</td>\n",
       "    </tr>\n",
       "    <tr>\n",
       "      <th>nurse</th>\n",
       "      <td>-0.275027</td>\n",
       "    </tr>\n",
       "  </tbody>\n",
       "</table>\n",
       "</div>"
      ],
      "text/plain": [
       "                gender\n",
       "doctor        0.007563\n",
       "lawyer       -0.001915\n",
       "plumber       0.103097\n",
       "scientist    -0.014868\n",
       "hairdresser  -0.229392\n",
       "nanny        -0.176223\n",
       "carpenter     0.126375\n",
       "entrepreneur  0.037492\n",
       "musician      0.034811\n",
       "writer        0.000454\n",
       "banker        0.046643\n",
       "poet         -0.021631\n",
       "nurse        -0.275027"
      ]
     },
     "execution_count": 34,
     "metadata": {},
     "output_type": "execute_result"
    }
   ],
   "source": [
    "Occupations_output"
   ]
  },
  {
   "cell_type": "code",
   "execution_count": 35,
   "metadata": {},
   "outputs": [
    {
     "data": {
      "image/png": "[encoded data removed]",
      "text/plain": [
       "<Figure size 864x288 with 3 Axes>"
      ]
     },
     "metadata": {},
     "output_type": "display_data"
    }
   ],
   "source": [
    "#appearing high on the plot indicates that a word falls on the male side of the gender dimensions\n",
    "#appearing low on the plot indicates that a word falls on the female side of the gender dimensions\n",
    "\n",
    "fig = plt.figure(figsize = (12,4))\n",
    "ax1 = fig.add_subplot(131)\n",
    "PlotDimension(ax1, Occupations_output, 'gender')\n",
    "ax2 = fig.add_subplot(132)\n",
    "PlotDimension(ax2, Food_output, 'gender')\n",
    "ax3 = fig.add_subplot(133)\n",
    "PlotDimension(ax3, Sports_output, 'gender')\n",
    "plt.show()\n"
   ]
  },
  {
   "cell_type": "markdown",
   "metadata": {},
   "source": [
    "##### Now, let's construct another dimension we're interested in. This time let's make a moral dimension"
   ]
  },
  {
   "cell_type": "code",
   "execution_count": 47,
   "metadata": {},
   "outputs": [],
   "source": [
    "Moral = dimension(model, ['bad', 'immoral', 'evil'], ['good','moral','kind'])"
   ]
  },
  {
   "cell_type": "code",
   "execution_count": 68,
   "metadata": {},
   "outputs": [],
   "source": [
    "test_categories  = [\"Villian\", \"Hero\"]\n",
    "Companies  = [\"Google\", \"Facebook\", \"Twitter\", \"IBM\", \"Paypal\", \"Microsoft\",\"Chrysler\", \"Pepsi\", \"Coke\", \"Pfizer\", \"NBA\"]"
   ]
  },
  {
   "cell_type": "code",
   "execution_count": 69,
   "metadata": {},
   "outputs": [],
   "source": [
    "Companies_output = process_inputs(model=model, dimension=Moral, dimension_name='Moral', word_list=Companies) \n",
    "test_categories_output = process_inputs(model=model, dimension=Moral, dimension_name='Moral', word_list=test_categories) "
   ]
  },
  {
   "cell_type": "code",
   "execution_count": 72,
   "metadata": {},
   "outputs": [
    {
     "data": {
      "image/png": "[encoded data removed]",
      "text/plain": [
       "<Figure size 864x288 with 2 Axes>"
      ]
     },
     "metadata": {},
     "output_type": "display_data"
    }
   ],
   "source": [
    "#appearing high on the plot indicates that a word falls on the male side of the gender dimensions\n",
    "#appearing low on the plot indicates that a word falls on the female side of the gender dimensions\n",
    "\n",
    "fig = plt.figure(figsize = (12,4))\n",
    "ax1 = fig.add_subplot(131)\n",
    "PlotDimension(ax1, test_categories_output, 'Moral')\n",
    "ax2 = fig.add_subplot(132)\n",
    "PlotDimension(ax2, Companies_output, 'Moral')\n",
    "\n",
    "plt.show()\n"
   ]
  },
  {
   "cell_type": "code",
   "execution_count": 89,
   "metadata": {},
   "outputs": [],
   "source": [
    "tech_companies  = [\"Google\", \"Facebook\", \"Twitter\", \"Microsoft\", \"Apple\"]"
   ]
  },
  {
   "cell_type": "code",
   "execution_count": 90,
   "metadata": {},
   "outputs": [],
   "source": [
    "Competitive = dimension(model, ['winner', 'rich', 'success'], ['loser', 'poor', 'failure'])"
   ]
  },
  {
   "cell_type": "code",
   "execution_count": 91,
   "metadata": {},
   "outputs": [],
   "source": [
    "tech_companies_competitive_df = makeDF(model=model, dimension=Competitive, dimension_name='Competitive', word_list=tech_companies) "
   ]
  },
  {
   "cell_type": "code",
   "execution_count": 92,
   "metadata": {},
   "outputs": [
    {
     "data": {
      "image/png": "[encoded data removed]",
      "text/plain": [
       "<Figure size 864x288 with 1 Axes>"
      ]
     },
     "metadata": {},
     "output_type": "display_data"
    }
   ],
   "source": [
    "#appearing high on the plot indicates that a word falls on the male side of the gender dimensions\n",
    "#appearing low on the plot indicates that a word falls on the female side of the gender dimensions\n",
    "\n",
    "fig = plt.figure(figsize = (12,4))\n",
    "ax2 = fig.add_subplot(132)\n",
    "PlotDimension(ax2, tech_companies_competitive_df, 'Competitive')\n",
    "\n",
    "plt.show()\n"
   ]
  }
 ],
 "metadata": {
  "kernelspec": {
   "display_name": "Python 3",
   "language": "python",
   "name": "python3"
  },
  "language_info": {
   "codemirror_mode": {
    "name": "ipython",
    "version": 3
   },
   "file_extension": ".py",
   "mimetype": "text/x-python",
   "name": "python",
   "nbconvert_exporter": "python",
   "pygments_lexer": "ipython3",
   "version": "3.8.3"
  }
 },
 "nbformat": 4,
 "nbformat_minor": 4
}
