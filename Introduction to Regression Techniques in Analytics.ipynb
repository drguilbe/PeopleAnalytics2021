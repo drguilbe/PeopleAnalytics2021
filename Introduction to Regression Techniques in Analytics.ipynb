{
 "cells": [
  {
   "cell_type": "markdown",
   "metadata": {},
   "source": [
    "### Information"
   ]
  },
  {
   "cell_type": "code",
   "execution_count": null,
   "metadata": {},
   "outputs": [],
   "source": [
    "#Class One: The Data Science Revolution\n",
    "#Introductory Tutorial on linear regression for People Analytics \n",
    "#Professor Douglas Guilbeault\n",
    "#January 2021\n",
    "\n",
    "#This Tutorial is adapted from: https://towardsdatascience.com/introduction-to-linear-regression-in-python-c12a072bedf0\n",
    "#You are encouraged to view the original source for further detail. \n",
    "#Note: this is a basic introduction and should be used as a launch pad for those seeking to learn more \n",
    "#about how to run regressions for People Analytics. Please write to me if you would like to learn more \n",
    "#how running regressions for the purposes of Analytics: douglas.guilbeault@haas.berkeley.edu"
   ]
  },
  {
   "cell_type": "markdown",
   "metadata": {},
   "source": [
    "### Load Libraries "
   ]
  },
  {
   "cell_type": "code",
   "execution_count": 2,
   "metadata": {},
   "outputs": [],
   "source": [
    "#if you don't have these libraries downloaded in python, a popular and easy way to download them is to \n",
    "#run the following command in this notebook: \"!pip install package_name\" (replace package_name with \n",
    "#ctual package name)\n",
    "\n",
    "import pandas as pd\n",
    "import numpy as np\n",
    "from matplotlib import pyplot as plt\n",
    "import seaborn as sns\n",
    "import statsmodels.formula.api as smf\n",
    "from sklearn.linear_model import LinearRegression\n",
    "from sklearn import metrics\n",
    "%matplotlib inline"
   ]
  },
  {
   "cell_type": "markdown",
   "metadata": {},
   "source": [
    "### First we will walk through how to run a regression prediction manually"
   ]
  },
  {
   "cell_type": "markdown",
   "metadata": {},
   "source": [
    "### Load Data"
   ]
  },
  {
   "cell_type": "code",
   "execution_count": 27,
   "metadata": {},
   "outputs": [
    {
     "data": {
      "text/html": [
       "<div>\n",
       "<style scoped>\n",
       "    .dataframe tbody tr th:only-of-type {\n",
       "        vertical-align: middle;\n",
       "    }\n",
       "\n",
       "    .dataframe tbody tr th {\n",
       "        vertical-align: top;\n",
       "    }\n",
       "\n",
       "    .dataframe thead th {\n",
       "        text-align: right;\n",
       "    }\n",
       "</style>\n",
       "<table border=\"1\" class=\"dataframe\">\n",
       "  <thead>\n",
       "    <tr style=\"text-align: right;\">\n",
       "      <th></th>\n",
       "      <th>remote_hours</th>\n",
       "      <th>worker_productivity</th>\n",
       "    </tr>\n",
       "  </thead>\n",
       "  <tbody>\n",
       "    <tr>\n",
       "      <th>0</th>\n",
       "      <td>24.410131</td>\n",
       "      <td>10.264615</td>\n",
       "    </tr>\n",
       "    <tr>\n",
       "      <th>1</th>\n",
       "      <td>21.000393</td>\n",
       "      <td>7.626238</td>\n",
       "    </tr>\n",
       "    <tr>\n",
       "      <th>2</th>\n",
       "      <td>22.446845</td>\n",
       "      <td>8.098811</td>\n",
       "    </tr>\n",
       "    <tr>\n",
       "      <th>3</th>\n",
       "      <td>25.602233</td>\n",
       "      <td>10.165368</td>\n",
       "    </tr>\n",
       "    <tr>\n",
       "      <th>4</th>\n",
       "      <td>24.668895</td>\n",
       "      <td>8.814107</td>\n",
       "    </tr>\n",
       "  </tbody>\n",
       "</table>\n",
       "</div>"
      ],
      "text/plain": [
       "   remote_hours  worker_productivity\n",
       "0     24.410131            10.264615\n",
       "1     21.000393             7.626238\n",
       "2     22.446845             8.098811\n",
       "3     25.602233            10.165368\n",
       "4     24.668895             8.814107"
      ]
     },
     "execution_count": 27,
     "metadata": {},
     "output_type": "execute_result"
    }
   ],
   "source": [
    "# Generate data (this data is generated randomly)\n",
    "\n",
    "np.random.seed(0)\n",
    "remote_hours = 2.5 * np.random.randn(100) + 20   # Array of 100 values \n",
    "res = 0.5 * np.random.randn(100)       # Generate 100 residual terms (i.e. error and variation not explained by remote ho)\n",
    "worker_productivity = 2 + 0.3 * remote_hours + res  # Actual values of Y\n",
    "\n",
    "# Create pandas dataframe to store our X and y values\n",
    "data = pd.DataFrame(\n",
    "    {'remote_hours': remote_hours,\n",
    "     'worker_productivity': worker_productivity}\n",
    ")\n",
    "\n",
    "# Show the first five rows of our dataframe\n",
    "data.head()\n",
    "\n",
    "#Note: for this exercise, a basic dataset was constructed; \n",
    "#If you want to load in your own data and run the analysis below\n",
    "#its as simple as getting your data into an excel .csv file type\n",
    "#and using the following command: data = pd.read_csv('name_of_data_file.csv')"
   ]
  },
  {
   "cell_type": "markdown",
   "metadata": {},
   "source": [
    "### Build Regression Model"
   ]
  },
  {
   "cell_type": "code",
   "execution_count": 28,
   "metadata": {},
   "outputs": [
    {
     "name": "stdout",
     "output_type": "stream",
     "text": [
      "alpha = 1.5787828083407316\n",
      "beta = 0.3229396867092763\n"
     ]
    }
   ],
   "source": [
    "xmean = np.mean(remote_hours)\n",
    "ymean = np.mean(worker_productivity)\n",
    "\n",
    "#beta = slope of predictor\n",
    "#alpha = yintercept (expectation when beta is 0)\n",
    "# Calculate the terms needed for the numator and denominator of beta \n",
    "data['xycov'] = (data['remote_hours'] - xmean) * (df['worker_productivity'] - ymean)\n",
    "data['xvar'] = (data['remote_hours'] - xmean)**2\n",
    "\n",
    "# Calculate beta and alpha\n",
    "beta = df['xycov'].sum() / df['xvar'].sum()\n",
    "alpha = ymean - (beta * xmean)\n",
    "print(f'alpha = {alpha}')\n",
    "print(f'beta = {beta}')"
   ]
  },
  {
   "cell_type": "code",
   "execution_count": 29,
   "metadata": {},
   "outputs": [],
   "source": [
    "#Model (Lineager regression equation)\n",
    "ypred = alpha + beta * remote_hours"
   ]
  },
  {
   "cell_type": "code",
   "execution_count": 31,
   "metadata": {},
   "outputs": [
    {
     "data": {
      "image/png": "[encoded data removed]",
      "text/plain": [
       "<Figure size 864x432 with 1 Axes>"
      ]
     },
     "metadata": {
      "needs_background": "light"
     },
     "output_type": "display_data"
    }
   ],
   "source": [
    "plt.figure(figsize=(12, 6))\n",
    "plt.plot(remote_hours, ypred)     # regression line\n",
    "plt.plot(remote_hours, worker_productivity, 'ro')   # scatter plot showing actual data\n",
    "plt.title('Actual vs Predicted')\n",
    "plt.xlabel('remote_hours')\n",
    "plt.ylabel('worker_productivity')\n",
    "\n",
    "plt.show()"
   ]
  },
  {
   "cell_type": "markdown",
   "metadata": {},
   "source": [
    "### Evaluate the Model Statistically"
   ]
  },
  {
   "cell_type": "code",
   "execution_count": 33,
   "metadata": {},
   "outputs": [],
   "source": [
    "#This function automatically generates the regression line for you\n",
    "#equation structure: y ~ x. Could easily by y ~ x + z + k (where z and k are additional predictors)\n",
    "#y ~ x * k, here '*' indicates multiplication, which for regression indicates an 'interaction effect',\n",
    "#that is, a predictor looks at whether the predictive value of x depends on k. \n",
    "#As this is not a stats class, we will not go into these details. \n",
    "#Please write me if you are interested in learning more: douglas.guilbeault@haas.berkeley.edu. \n",
    "\n",
    "lm1 = smf.ols(formula='worker_productivity ~ remote_hours', data=data).fit()"
   ]
  },
  {
   "cell_type": "code",
   "execution_count": 34,
   "metadata": {},
   "outputs": [
    {
     "data": {
      "text/plain": [
       "Intercept       1.578783\n",
       "remote_hours    0.322940\n",
       "dtype: float64"
      ]
     },
     "execution_count": 34,
     "metadata": {},
     "output_type": "execute_result"
    }
   ],
   "source": [
    "#view the parameters and their values. This is the regression equation. The value associated with 'remote hours'\n",
    "#is the slope variable, and the intercept is (as expected) the intercept of the line (expected value when \n",
    "#remote hours is 0. \n",
    "\n",
    "lm1.params"
   ]
  },
  {
   "cell_type": "code",
   "execution_count": 35,
   "metadata": {},
   "outputs": [
    {
     "data": {
      "text/plain": [
       "Intercept       2.768885e-04\n",
       "remote_hours    1.927535e-28\n",
       "dtype: float64"
      ]
     },
     "execution_count": 35,
     "metadata": {},
     "output_type": "execute_result"
    }
   ],
   "source": [
    "#view statistical significance of predictor variables\n",
    "#if remote_hours is less than 0.05, it is weakly significant. \n",
    "#Roughly, a p-value of less than 0.05 means there is roughly a 5% chance that the pattern you've observed is due \n",
    "#purely to chance rather than to your predictor variable\n",
    "#A p-value of less 0.01 is considered highly significant. \n",
    "lm1.pvalues"
   ]
  },
  {
   "cell_type": "code",
   "execution_count": 36,
   "metadata": {},
   "outputs": [
    {
     "data": {
      "text/html": [
       "<table class=\"simpletable\">\n",
       "<caption>OLS Regression Results</caption>\n",
       "<tr>\n",
       "  <th>Dep. Variable:</th>    <td>worker_productivity</td> <th>  R-squared:         </th> <td>   0.715</td>\n",
       "</tr>\n",
       "<tr>\n",
       "  <th>Model:</th>                    <td>OLS</td>         <th>  Adj. R-squared:    </th> <td>   0.712</td>\n",
       "</tr>\n",
       "<tr>\n",
       "  <th>Method:</th>              <td>Least Squares</td>    <th>  F-statistic:       </th> <td>   245.5</td>\n",
       "</tr>\n",
       "<tr>\n",
       "  <th>Date:</th>              <td>Wed, 20 Jan 2021</td>   <th>  Prob (F-statistic):</th> <td>1.93e-28</td>\n",
       "</tr>\n",
       "<tr>\n",
       "  <th>Time:</th>                  <td>19:17:20</td>       <th>  Log-Likelihood:    </th> <td> -75.359</td>\n",
       "</tr>\n",
       "<tr>\n",
       "  <th>No. Observations:</th>       <td>   100</td>        <th>  AIC:               </th> <td>   154.7</td>\n",
       "</tr>\n",
       "<tr>\n",
       "  <th>Df Residuals:</th>           <td>    98</td>        <th>  BIC:               </th> <td>   159.9</td>\n",
       "</tr>\n",
       "<tr>\n",
       "  <th>Df Model:</th>               <td>     1</td>        <th>                     </th>     <td> </td>   \n",
       "</tr>\n",
       "<tr>\n",
       "  <th>Covariance Type:</th>       <td>nonrobust</td>      <th>                     </th>     <td> </td>   \n",
       "</tr>\n",
       "</table>\n",
       "<table class=\"simpletable\">\n",
       "<tr>\n",
       "        <td></td>          <th>coef</th>     <th>std err</th>      <th>t</th>      <th>P>|t|</th>  <th>[0.025</th>    <th>0.975]</th>  \n",
       "</tr>\n",
       "<tr>\n",
       "  <th>Intercept</th>    <td>    1.5788</td> <td>    0.419</td> <td>    3.772</td> <td> 0.000</td> <td>    0.748</td> <td>    2.409</td>\n",
       "</tr>\n",
       "<tr>\n",
       "  <th>remote_hours</th> <td>    0.3229</td> <td>    0.021</td> <td>   15.669</td> <td> 0.000</td> <td>    0.282</td> <td>    0.364</td>\n",
       "</tr>\n",
       "</table>\n",
       "<table class=\"simpletable\">\n",
       "<tr>\n",
       "  <th>Omnibus:</th>       <td> 5.184</td> <th>  Durbin-Watson:     </th> <td>   1.995</td>\n",
       "</tr>\n",
       "<tr>\n",
       "  <th>Prob(Omnibus):</th> <td> 0.075</td> <th>  Jarque-Bera (JB):  </th> <td>   3.000</td>\n",
       "</tr>\n",
       "<tr>\n",
       "  <th>Skew:</th>          <td> 0.210</td> <th>  Prob(JB):          </th> <td>   0.223</td>\n",
       "</tr>\n",
       "<tr>\n",
       "  <th>Kurtosis:</th>      <td> 2.262</td> <th>  Cond. No.          </th> <td>    164.</td>\n",
       "</tr>\n",
       "</table><br/><br/>Notes:<br/>[1] Standard Errors assume that the covariance matrix of the errors is correctly specified."
      ],
      "text/plain": [
       "<class 'statsmodels.iolib.summary.Summary'>\n",
       "\"\"\"\n",
       "                             OLS Regression Results                            \n",
       "===============================================================================\n",
       "Dep. Variable:     worker_productivity   R-squared:                       0.715\n",
       "Model:                             OLS   Adj. R-squared:                  0.712\n",
       "Method:                  Least Squares   F-statistic:                     245.5\n",
       "Date:                 Wed, 20 Jan 2021   Prob (F-statistic):           1.93e-28\n",
       "Time:                         19:17:20   Log-Likelihood:                -75.359\n",
       "No. Observations:                  100   AIC:                             154.7\n",
       "Df Residuals:                       98   BIC:                             159.9\n",
       "Df Model:                            1                                         \n",
       "Covariance Type:             nonrobust                                         \n",
       "================================================================================\n",
       "                   coef    std err          t      P>|t|      [0.025      0.975]\n",
       "--------------------------------------------------------------------------------\n",
       "Intercept        1.5788      0.419      3.772      0.000       0.748       2.409\n",
       "remote_hours     0.3229      0.021     15.669      0.000       0.282       0.364\n",
       "==============================================================================\n",
       "Omnibus:                        5.184   Durbin-Watson:                   1.995\n",
       "Prob(Omnibus):                  0.075   Jarque-Bera (JB):                3.000\n",
       "Skew:                           0.210   Prob(JB):                        0.223\n",
       "Kurtosis:                       2.262   Cond. No.                         164.\n",
       "==============================================================================\n",
       "\n",
       "Notes:\n",
       "[1] Standard Errors assume that the covariance matrix of the errors is correctly specified.\n",
       "\"\"\""
      ]
     },
     "execution_count": 36,
     "metadata": {},
     "output_type": "execute_result"
    }
   ],
   "source": [
    "#view the full summary of the model, including the overall amount of \"worker_productivity\" explained by the model, \n",
    "#which for us only contains \"remote hours\", so it's the amount of variation explained by remote hours per week. \n",
    "#We find that the model accounts for 71.5% of the variation among employees. That's good! \n",
    "lm1.summary()"
   ]
  }
 ],
 "metadata": {
  "kernelspec": {
   "display_name": "Python 3",
   "language": "python",
   "name": "python3"
  },
  "language_info": {
   "codemirror_mode": {
    "name": "ipython",
    "version": 3
   },
   "file_extension": ".py",
   "mimetype": "text/x-python",
   "name": "python",
   "nbconvert_exporter": "python",
   "pygments_lexer": "ipython3",
   "version": "3.8.3"
  }
 },
 "nbformat": 4,
 "nbformat_minor": 4
}
